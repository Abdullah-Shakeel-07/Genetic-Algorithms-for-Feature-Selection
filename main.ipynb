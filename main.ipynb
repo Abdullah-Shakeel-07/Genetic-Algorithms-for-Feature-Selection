{
 "cells": [
  {
   "cell_type": "markdown",
   "metadata": {},
   "source": [
    "# Importing libraries"
   ]
  },
  {
   "cell_type": "code",
   "execution_count": 1,
   "metadata": {},
   "outputs": [],
   "source": [
    "import numpy as np\n",
    "import pandas as pd\n",
    "from sklearn.neighbors import KNeighborsClassifier\n",
    "from sklearn.linear_model import LogisticRegression\n",
    "from sklearn.model_selection import train_test_split\n",
    "from sklearn.metrics import accuracy_score \n",
    "\n",
    "import warnings #just to remove warning\n",
    "warnings.filterwarnings(\"ignore\")"
   ]
  },
  {
   "cell_type": "markdown",
   "metadata": {},
   "source": [
    "# Loading dataset"
   ]
  },
  {
   "cell_type": "code",
   "execution_count": 2,
   "metadata": {},
   "outputs": [],
   "source": [
    "df = pd.read_excel(\"Training_Data.xlsx\")"
   ]
  },
  {
   "cell_type": "code",
   "execution_count": 3,
   "metadata": {},
   "outputs": [
    {
     "data": {
      "text/html": [
       "<div>\n",
       "<style scoped>\n",
       "    .dataframe tbody tr th:only-of-type {\n",
       "        vertical-align: middle;\n",
       "    }\n",
       "\n",
       "    .dataframe tbody tr th {\n",
       "        vertical-align: top;\n",
       "    }\n",
       "\n",
       "    .dataframe thead th {\n",
       "        text-align: right;\n",
       "    }\n",
       "</style>\n",
       "<table border=\"1\" class=\"dataframe\">\n",
       "  <thead>\n",
       "    <tr style=\"text-align: right;\">\n",
       "      <th></th>\n",
       "      <th>PatientId</th>\n",
       "      <th>EncounterId</th>\n",
       "      <th>DischargeDisposision</th>\n",
       "      <th>Gender</th>\n",
       "      <th>Race</th>\n",
       "      <th>DiabetesMellitus</th>\n",
       "      <th>ChronicKidneyDisease</th>\n",
       "      <th>Anemia</th>\n",
       "      <th>Depression</th>\n",
       "      <th>ChronicObstructivePulmonaryDisease</th>\n",
       "      <th>...</th>\n",
       "      <th>BetaBlockers</th>\n",
       "      <th>Diuretics</th>\n",
       "      <th>TotalMedicine</th>\n",
       "      <th>CardiacTroponin</th>\n",
       "      <th>Hemoglobin</th>\n",
       "      <th>SerumSodium</th>\n",
       "      <th>SerumCreatinine</th>\n",
       "      <th>BNP</th>\n",
       "      <th>NT-proBNP</th>\n",
       "      <th>ReadmissionWithin_90Days</th>\n",
       "    </tr>\n",
       "  </thead>\n",
       "  <tbody>\n",
       "    <tr>\n",
       "      <th>0</th>\n",
       "      <td>4200412</td>\n",
       "      <td>199171333</td>\n",
       "      <td>Home</td>\n",
       "      <td>Male</td>\n",
       "      <td>White</td>\n",
       "      <td>DM</td>\n",
       "      <td>NaN</td>\n",
       "      <td>Anemia</td>\n",
       "      <td>NaN</td>\n",
       "      <td>COPD</td>\n",
       "      <td>...</td>\n",
       "      <td>0</td>\n",
       "      <td>0</td>\n",
       "      <td>0</td>\n",
       "      <td>0.0</td>\n",
       "      <td>0.00</td>\n",
       "      <td>0.0</td>\n",
       "      <td>0.00</td>\n",
       "      <td>0.0</td>\n",
       "      <td>0.0</td>\n",
       "      <td>Yes</td>\n",
       "    </tr>\n",
       "    <tr>\n",
       "      <th>1</th>\n",
       "      <td>4055894</td>\n",
       "      <td>26704337</td>\n",
       "      <td>Home</td>\n",
       "      <td>Male</td>\n",
       "      <td>White</td>\n",
       "      <td>DM</td>\n",
       "      <td>CKD</td>\n",
       "      <td>Anemia</td>\n",
       "      <td>Depression</td>\n",
       "      <td>COPD</td>\n",
       "      <td>...</td>\n",
       "      <td>1</td>\n",
       "      <td>5</td>\n",
       "      <td>8</td>\n",
       "      <td>0.0</td>\n",
       "      <td>0.00</td>\n",
       "      <td>0.0</td>\n",
       "      <td>1.54</td>\n",
       "      <td>0.0</td>\n",
       "      <td>0.0</td>\n",
       "      <td>No</td>\n",
       "    </tr>\n",
       "    <tr>\n",
       "      <th>2</th>\n",
       "      <td>4867407</td>\n",
       "      <td>60388216</td>\n",
       "      <td>Home</td>\n",
       "      <td>Male</td>\n",
       "      <td>White</td>\n",
       "      <td>DM</td>\n",
       "      <td>CKD</td>\n",
       "      <td>Anemia</td>\n",
       "      <td>NaN</td>\n",
       "      <td>COPD</td>\n",
       "      <td>...</td>\n",
       "      <td>1</td>\n",
       "      <td>1</td>\n",
       "      <td>2</td>\n",
       "      <td>0.0</td>\n",
       "      <td>10.20</td>\n",
       "      <td>0.0</td>\n",
       "      <td>0.00</td>\n",
       "      <td>0.0</td>\n",
       "      <td>0.0</td>\n",
       "      <td>No</td>\n",
       "    </tr>\n",
       "    <tr>\n",
       "      <th>3</th>\n",
       "      <td>4058064</td>\n",
       "      <td>274642265</td>\n",
       "      <td>Hospice - Home</td>\n",
       "      <td>Female</td>\n",
       "      <td>White</td>\n",
       "      <td>DM</td>\n",
       "      <td>NaN</td>\n",
       "      <td>Anemia</td>\n",
       "      <td>NaN</td>\n",
       "      <td>COPD</td>\n",
       "      <td>...</td>\n",
       "      <td>0</td>\n",
       "      <td>0</td>\n",
       "      <td>0</td>\n",
       "      <td>0.0</td>\n",
       "      <td>0.00</td>\n",
       "      <td>132.0</td>\n",
       "      <td>0.00</td>\n",
       "      <td>0.0</td>\n",
       "      <td>0.0</td>\n",
       "      <td>No</td>\n",
       "    </tr>\n",
       "    <tr>\n",
       "      <th>4</th>\n",
       "      <td>4150623</td>\n",
       "      <td>70000001557327</td>\n",
       "      <td>SNF</td>\n",
       "      <td>Female</td>\n",
       "      <td>White</td>\n",
       "      <td>NaN</td>\n",
       "      <td>NaN</td>\n",
       "      <td>Anemia</td>\n",
       "      <td>NaN</td>\n",
       "      <td>COPD</td>\n",
       "      <td>...</td>\n",
       "      <td>0</td>\n",
       "      <td>0</td>\n",
       "      <td>0</td>\n",
       "      <td>0.0</td>\n",
       "      <td>7.26</td>\n",
       "      <td>0.0</td>\n",
       "      <td>0.00</td>\n",
       "      <td>0.0</td>\n",
       "      <td>0.0</td>\n",
       "      <td>No</td>\n",
       "    </tr>\n",
       "  </tbody>\n",
       "</table>\n",
       "<p>5 rows × 57 columns</p>\n",
       "</div>"
      ],
      "text/plain": [
       "   PatientId     EncounterId DischargeDisposision  Gender   Race  \\\n",
       "0    4200412       199171333                 Home    Male  White   \n",
       "1    4055894        26704337                 Home    Male  White   \n",
       "2    4867407        60388216                 Home    Male  White   \n",
       "3    4058064       274642265       Hospice - Home  Female  White   \n",
       "4    4150623  70000001557327                  SNF  Female  White   \n",
       "\n",
       "  DiabetesMellitus ChronicKidneyDisease  Anemia  Depression   \\\n",
       "0               DM                  NaN  Anemia          NaN   \n",
       "1               DM                  CKD  Anemia  Depression    \n",
       "2               DM                  CKD  Anemia          NaN   \n",
       "3               DM                  NaN  Anemia          NaN   \n",
       "4              NaN                  NaN  Anemia          NaN   \n",
       "\n",
       "  ChronicObstructivePulmonaryDisease  ...  BetaBlockers  Diuretics  \\\n",
       "0                               COPD  ...             0          0   \n",
       "1                               COPD  ...             1          5   \n",
       "2                               COPD  ...             1          1   \n",
       "3                               COPD  ...             0          0   \n",
       "4                               COPD  ...             0          0   \n",
       "\n",
       "   TotalMedicine  CardiacTroponin  Hemoglobin  SerumSodium  SerumCreatinine  \\\n",
       "0              0              0.0        0.00          0.0             0.00   \n",
       "1              8              0.0        0.00          0.0             1.54   \n",
       "2              2              0.0       10.20          0.0             0.00   \n",
       "3              0              0.0        0.00        132.0             0.00   \n",
       "4              0              0.0        7.26          0.0             0.00   \n",
       "\n",
       "   BNP  NT-proBNP  ReadmissionWithin_90Days  \n",
       "0  0.0        0.0                       Yes  \n",
       "1  0.0        0.0                        No  \n",
       "2  0.0        0.0                        No  \n",
       "3  0.0        0.0                        No  \n",
       "4  0.0        0.0                        No  \n",
       "\n",
       "[5 rows x 57 columns]"
      ]
     },
     "execution_count": 3,
     "metadata": {},
     "output_type": "execute_result"
    }
   ],
   "source": [
    "df.head()"
   ]
  },
  {
   "cell_type": "markdown",
   "metadata": {},
   "source": [
    "# Preprocessing "
   ]
  },
  {
   "cell_type": "code",
   "execution_count": 4,
   "metadata": {},
   "outputs": [
    {
     "data": {
      "text/plain": [
       "(8481, 57)"
      ]
     },
     "execution_count": 4,
     "metadata": {},
     "output_type": "execute_result"
    }
   ],
   "source": [
    "df.shape"
   ]
  },
  {
   "cell_type": "code",
   "execution_count": 5,
   "metadata": {},
   "outputs": [
    {
     "data": {
      "text/plain": [
       "PatientId                                0\n",
       "EncounterId                              0\n",
       "DischargeDisposision                     0\n",
       "Gender                                   0\n",
       "Race                                    93\n",
       "DiabetesMellitus                      3857\n",
       "ChronicKidneyDisease                  3906\n",
       "Anemia                                3002\n",
       "Depression                            5108\n",
       "ChronicObstructivePulmonaryDisease    3954\n",
       "Age                                      0\n",
       "ChronicDiseaseCount                      0\n",
       "LengthOfStay                             0\n",
       "EmergencyVisit                           0\n",
       "InpatientVisit                           0\n",
       "OutpatientVisit                          0\n",
       "TotalVisits                              0\n",
       "BMIMin                                   0\n",
       "BMIMax                                   0\n",
       "BMIMedian                                0\n",
       "BMIMean                                  0\n",
       "BPDiastolicMin                           0\n",
       "BPDiastolicMax                           0\n",
       "BPDiastolicMedian                        0\n",
       "BPDiastolicMean                          0\n",
       "BPSystolicMin                            0\n",
       "BPSystolicMax                            0\n",
       "BPSystolicMedian                         0\n",
       "BPSystolicMean                           0\n",
       "TemperatureMin                           0\n",
       "TemperatureMax                           0\n",
       "TemperatureMedian                        0\n",
       "TemperatureMean                          0\n",
       "HeartRateMin                             0\n",
       "HeartRateMax                             0\n",
       "HeartRateMedian                          0\n",
       "HeartRateMean                            0\n",
       "PulseRateMin                             0\n",
       "PulseRateMax                             0\n",
       "PulseRateMedian                          0\n",
       "PulseRateMean                            0\n",
       "RespiratoryRateMin                       0\n",
       "RespiratoryRateMax                       0\n",
       "RespiratoryRateMedian                    0\n",
       "RespiratoryRateMean                      0\n",
       "ACEInhibitors                            0\n",
       "ARBs                                     0\n",
       "BetaBlockers                             0\n",
       "Diuretics                                0\n",
       "TotalMedicine                            0\n",
       "CardiacTroponin                          0\n",
       "Hemoglobin                               0\n",
       "SerumSodium                              0\n",
       "SerumCreatinine                          0\n",
       "BNP                                      0\n",
       "NT-proBNP                                0\n",
       "ReadmissionWithin_90Days                 0\n",
       "dtype: int64"
      ]
     },
     "execution_count": 5,
     "metadata": {},
     "output_type": "execute_result"
    }
   ],
   "source": [
    "df.isnull().sum()"
   ]
  },
  {
   "cell_type": "code",
   "execution_count": null,
   "metadata": {},
   "outputs": [],
   "source": []
  },
  {
   "cell_type": "markdown",
   "metadata": {},
   "source": [
    "## Age\n",
    "Age contain 0 values. As age can't be 0 so fill 0 with mean of that column"
   ]
  },
  {
   "cell_type": "code",
   "execution_count": 6,
   "metadata": {},
   "outputs": [],
   "source": [
    "df['Age'] = df['Age'].replace(0, int(df['Age'].mean())) "
   ]
  },
  {
   "cell_type": "code",
   "execution_count": 7,
   "metadata": {},
   "outputs": [
    {
     "data": {
      "text/plain": [
       "array([ 58,  80,  63,  73,  85,  83,  57,  66,  59,  77,  76,  71,  82,\n",
       "        70,  91,  79,  98,  64,  86,  88,  75,  96,  99,  53,  78,  55,\n",
       "        67,  89,  69,  81,  62,  61,  72,  31,  45,  87,  68,  90,  74,\n",
       "        47,  60,  43,  94,  65,  25,  54,  84,  44,  52,  30,  49,  48,\n",
       "        92,  40,  33,  38,  34,  50,  39,  93,  56,  37,  41,  51,  95,\n",
       "        46,  42,  97, 101,  21,  18,  35,  29, 100, 102,  27,  28,  36,\n",
       "        32], dtype=int64)"
      ]
     },
     "execution_count": 7,
     "metadata": {},
     "output_type": "execute_result"
    }
   ],
   "source": [
    "df['Age'].unique()"
   ]
  },
  {
   "cell_type": "markdown",
   "metadata": {},
   "source": [
    "## TotalVisits, InpatientVisit, OutpatientVisit\n",
    "Total visit should be equal to sum of inpatient and outpatient visit but 7309 out of 8481 values of totalvisit are not equal to inpatient_vist + out_patient_visit so make these value equal to sum of in and outpatient"
   ]
  },
  {
   "cell_type": "code",
   "execution_count": 8,
   "metadata": {},
   "outputs": [
    {
     "name": "stdout",
     "output_type": "stream",
     "text": [
      "7309\n"
     ]
    }
   ],
   "source": [
    "count = 0\n",
    "for i in range(0, len(df)):\n",
    "    if (df['TotalVisits'][i] != df['InpatientVisit'][i] + df['OutpatientVisit'][i]):\n",
    "        count += 1\n",
    "print(count)"
   ]
  },
  {
   "cell_type": "code",
   "execution_count": 9,
   "metadata": {},
   "outputs": [],
   "source": [
    "for i in range(0, len(df)):\n",
    "    if (df['TotalVisits'][i] != df['InpatientVisit'][i] + df['OutpatientVisit'][i]):\n",
    "        df['TotalVisits'][i] = df['InpatientVisit'][i] + df['OutpatientVisit'][i]"
   ]
  },
  {
   "cell_type": "markdown",
   "metadata": {},
   "source": [
    "## BPDiastolicMin, BPDiastolicMax, BPDiastolicMean, BPDiastolicMedian\n",
    "3748 rows out of 8481 are same for BPDiastolicMin, BPDiastolicMax, BPDiastolicMean, BPDiastolicMedian\n",
    "\n",
    "## BPSystolicMin, BPSystolicMax, BPSystolicMean, BPSystolicMedian\n",
    "3748 rows out of 8481 are same for BPSystolicMin, BPSystolicMax, BPSystolicMean, BPSystolicMedian"
   ]
  },
  {
   "cell_type": "code",
   "execution_count": 10,
   "metadata": {},
   "outputs": [
    {
     "name": "stdout",
     "output_type": "stream",
     "text": [
      "Value same for Diastolic 3748\n",
      "Value same for Systolic 3748\n"
     ]
    }
   ],
   "source": [
    "count = 0\n",
    "for i in range(0, len(df)):\n",
    "    if (df['BPDiastolicMin'][i] == df['BPDiastolicMax'][i] == df['BPDiastolicMean'][i] == df['BPDiastolicMedian'][i] ):\n",
    "        count += 1\n",
    "print(\"Value same for Diastolic\", count)\n",
    "\n",
    "count = 0\n",
    "for i in range(0, len(df)):\n",
    "    if (df['BPSystolicMin'][i] == df['BPSystolicMax'][i] == df['BPSystolicMean'][i] == df['BPSystolicMedian'][i] ):\n",
    "        count += 1\n",
    "print(\"Value same for Systolic\", count)"
   ]
  },
  {
   "cell_type": "code",
   "execution_count": 1,
   "metadata": {},
   "outputs": [],
   "source": [
    "# import matplotlib.pyplot as plt\n",
    "\n",
    "# fig, axs = plt.subplots(2, 2,figsize=(8,8))\n",
    "\n",
    "\n",
    "# axs[0, 0].scatter(df['PatientId'], df['BPDiastolicMin'],  s = 5)\n",
    "# axs[0, 0].set_title('Min')\n",
    "\n",
    "# axs[0, 1].scatter(df['PatientId'], df['BPDiastolicMax'], s = 5)\n",
    "# axs[0, 1].set_title('Max')\n",
    "\n",
    "# axs[1, 0].scatter(df['PatientId'], df['BPDiastolicMean'], s = 5)\n",
    "# axs[1, 0].set_title('Mean')\n",
    "\n",
    "# axs[1, 1].scatter(df['PatientId'], df['BPDiastolicMedian'], s = 5)\n",
    "# axs[1, 1].set_title('Median')\n",
    "\n",
    "# plt.suptitle('Diastolic',fontsize=20)\n",
    "\n",
    "# fig, axs = plt.subplots(2, 2,figsize=(8,8))\n",
    "\n",
    "# axs[0, 0].scatter(df['PatientId'], df['BPSystolicMin'],  s = 5)\n",
    "# axs[0, 0].set_title('Min')\n",
    "\n",
    "# axs[0, 1].scatter(df['PatientId'], df['BPSystolicMax'], s = 5)\n",
    "# axs[0, 1].set_title('Max')\n",
    "\n",
    "# axs[1, 0].scatter(df['PatientId'], df['BPSystolicMean'], s = 5)\n",
    "# axs[1, 0].set_title('Mean')\n",
    "\n",
    "# axs[1, 1].scatter(df['PatientId'], df['BPSystolicMedian'], s = 5)\n",
    "# axs[1, 1].set_title('Median')\n",
    "\n",
    "# plt.suptitle('Systolic',fontsize=20)"
   ]
  },
  {
   "cell_type": "code",
   "execution_count": 12,
   "metadata": {},
   "outputs": [],
   "source": [
    "# Fill 0 vlues with mean of that columns\n",
    "\n",
    "df['BPDiastolicMin'] = df['BPDiastolicMin'].replace(0, int(df['BPDiastolicMin'].mean())) \n",
    "df['BPDiastolicMax'] = df['BPDiastolicMax'].replace(0, int(df['BPDiastolicMax'].mean())) \n",
    "df['BPDiastolicMean'] = df['BPDiastolicMean'].replace(0, (df['BPDiastolicMean'].mean())) \n",
    "df['BPDiastolicMedian'] = df['BPDiastolicMedian'].replace(0, (df['BPDiastolicMedian'].mean())) \n",
    "\n",
    "df['BPSystolicMin'] = df['BPSystolicMin'].replace(0, int(df['BPSystolicMin'].mean())) \n",
    "df['BPSystolicMax'] = df['BPSystolicMax'].replace(0, int(df['BPSystolicMax'].mean())) \n",
    "df['BPSystolicMean'] = df['BPSystolicMean'].replace(0, (df['BPSystolicMean'].mean())) \n",
    "df['BPSystolicMedian'] = df['BPSystolicMedian'].replace(0, (df['BPSystolicMedian'].mean()))"
   ]
  },
  {
   "cell_type": "code",
   "execution_count": null,
   "metadata": {},
   "outputs": [],
   "source": []
  },
  {
   "cell_type": "markdown",
   "metadata": {},
   "source": [
    "## TemperatureMin, TemperatureMax, TemperatureMean, TemperatureMedian\n",
    "4218 out of 8481 values of TemperatureMin, TemperatureMax, TemperatureMean, TemperatureMedian are same"
   ]
  },
  {
   "cell_type": "code",
   "execution_count": 13,
   "metadata": {},
   "outputs": [
    {
     "name": "stdout",
     "output_type": "stream",
     "text": [
      "4218\n"
     ]
    }
   ],
   "source": [
    "# 4218 values of tempraturemin , max, mean, and median are same\n",
    "count = 0\n",
    "for i in range(0, len(df)):\n",
    "    if (df['TemperatureMin'][i] == df['TemperatureMax'][i] == df['TemperatureMean'][i] == df['TemperatureMedian'][i] ):\n",
    "        count += 1\n",
    "print(count)"
   ]
  },
  {
   "cell_type": "code",
   "execution_count": 14,
   "metadata": {},
   "outputs": [],
   "source": [
    "# Fill 0 wiht mean\n",
    "\n",
    "df['TemperatureMin'] = df['TemperatureMin'].replace(0, (df['TemperatureMin'].mean())) \n",
    "df['TemperatureMax'] = df['TemperatureMax'].replace(0, (df['TemperatureMax'].mean())) \n",
    "df['TemperatureMean'] = df['TemperatureMean'].replace(0, (df['TemperatureMean'].mean())) \n",
    "df['TemperatureMedian'] = df['TemperatureMedian'].replace(0, (df['TemperatureMedian'].mean())) "
   ]
  },
  {
   "cell_type": "code",
   "execution_count": null,
   "metadata": {},
   "outputs": [],
   "source": []
  },
  {
   "cell_type": "markdown",
   "metadata": {},
   "source": [
    "## HeartRateMin, HeartRateMax, HeartRateMean, HeartRateMedian\n",
    "6728 out of 8481 values of HeartRateMin, HeartRateMax, HeartRateMean, HeartRateMedian are same"
   ]
  },
  {
   "cell_type": "code",
   "execution_count": 15,
   "metadata": {},
   "outputs": [
    {
     "name": "stdout",
     "output_type": "stream",
     "text": [
      "6728\n"
     ]
    }
   ],
   "source": [
    "count = 0\n",
    "for i in range(0, len(df)):\n",
    "    if (df['HeartRateMin'][i] == df['HeartRateMax'][i] == df['HeartRateMean'][i] == df['HeartRateMedian'][i] ):\n",
    "        count += 1\n",
    "print(count)"
   ]
  },
  {
   "cell_type": "code",
   "execution_count": 16,
   "metadata": {},
   "outputs": [],
   "source": [
    "# Fill 0 wiht mean\n",
    "df['HeartRateMin'] = df['HeartRateMin'].replace(0, int(df['HeartRateMin'].mean())) \n",
    "df['HeartRateMax'] = df['HeartRateMax'].replace(0, int(df['HeartRateMax'].mean())) \n",
    "df['HeartRateMean'] = df['HeartRateMean'].replace(0, (df['HeartRateMean'].mean())) \n",
    "df['HeartRateMedian'] = df['HeartRateMedian'].replace(0, (df['HeartRateMedian'].mean())) "
   ]
  },
  {
   "cell_type": "code",
   "execution_count": null,
   "metadata": {},
   "outputs": [],
   "source": []
  },
  {
   "cell_type": "markdown",
   "metadata": {},
   "source": [
    "## PulseRateMin, PulseRateMax, PulseRateMean, PulseRateMedian\n",
    "6237 out of 8481 values of PulseRateMin, PulseRateMax, PulseRateMean, PulseRateMedian are same\n",
    "\n",
    "## RespiratoryRateMin, RespiratoryRateMax, RespiratoryRateMean, RespiratoryRateMedian\n",
    "3713 out of 8481 values of RespiratoryRateMin, RespiratoryRateMax, RespiratoryRateMean, RespiratoryRateMedian are same"
   ]
  },
  {
   "cell_type": "code",
   "execution_count": 17,
   "metadata": {},
   "outputs": [
    {
     "name": "stdout",
     "output_type": "stream",
     "text": [
      "PulseRate  6237\n",
      "RespiratoryRate  3713\n"
     ]
    }
   ],
   "source": [
    "count = 0\n",
    "for i in range(0, len(df)):\n",
    "    if (df['PulseRateMin'][i] == df['PulseRateMax'][i] == df['PulseRateMean'][i] == df['PulseRateMedian'][i] ):\n",
    "        count += 1\n",
    "print(\"PulseRate \",count)\n",
    "\n",
    "count = 0\n",
    "for i in range(0, len(df)):\n",
    "    if (df['RespiratoryRateMin'][i] == df['RespiratoryRateMax'][i] == df['RespiratoryRateMean'][i] == df['RespiratoryRateMedian'][i] ):\n",
    "        count += 1\n",
    "print(\"RespiratoryRate \",count)"
   ]
  },
  {
   "cell_type": "code",
   "execution_count": 18,
   "metadata": {},
   "outputs": [],
   "source": [
    "# Fill 0 wiht mean\n",
    "df['PulseRateMin'] = df['PulseRateMin'].replace(0, int(df['PulseRateMin'].mean())) \n",
    "df['PulseRateMax'] = df['PulseRateMax'].replace(0, int(df['PulseRateMax'].mean())) \n",
    "df['PulseRateMean'] = df['PulseRateMean'].replace(0, (df['PulseRateMean'].mean())) \n",
    "df['PulseRateMean'] = df['PulseRateMean'].replace(0, (df['PulseRateMean'].mean())) \n",
    "\n",
    "df['RespiratoryRateMin'] = df['RespiratoryRateMin'].replace(0, int(df['RespiratoryRateMin'].mean())) \n",
    "df['RespiratoryRateMax'] = df['RespiratoryRateMax'].replace(0, int(df['RespiratoryRateMax'].mean())) \n",
    "df['RespiratoryRateMean'] = df['RespiratoryRateMean'].replace(0, (df['RespiratoryRateMean'].mean())) \n",
    "df['RespiratoryRateMedian'] = df['RespiratoryRateMedian'].replace(0, (df['RespiratoryRateMedian'].mean())) "
   ]
  },
  {
   "cell_type": "code",
   "execution_count": 19,
   "metadata": {},
   "outputs": [
    {
     "name": "stdout",
     "output_type": "stream",
     "text": [
      "<class 'pandas.core.frame.DataFrame'>\n",
      "RangeIndex: 8481 entries, 0 to 8480\n",
      "Data columns (total 57 columns):\n",
      " #   Column                              Non-Null Count  Dtype  \n",
      "---  ------                              --------------  -----  \n",
      " 0   PatientId                           8481 non-null   int64  \n",
      " 1   EncounterId                         8481 non-null   object \n",
      " 2   DischargeDisposision                8481 non-null   object \n",
      " 3   Gender                              8481 non-null   object \n",
      " 4   Race                                8388 non-null   object \n",
      " 5   DiabetesMellitus                    4624 non-null   object \n",
      " 6   ChronicKidneyDisease                4575 non-null   object \n",
      " 7   Anemia                              5479 non-null   object \n",
      " 8   Depression                          3373 non-null   object \n",
      " 9   ChronicObstructivePulmonaryDisease  4527 non-null   object \n",
      " 10  Age                                 8481 non-null   int64  \n",
      " 11  ChronicDiseaseCount                 8481 non-null   int64  \n",
      " 12  LengthOfStay                        8481 non-null   int64  \n",
      " 13  EmergencyVisit                      8481 non-null   int64  \n",
      " 14  InpatientVisit                      8481 non-null   int64  \n",
      " 15  OutpatientVisit                     8481 non-null   int64  \n",
      " 16  TotalVisits                         8481 non-null   int64  \n",
      " 17  BMIMin                              8481 non-null   float64\n",
      " 18  BMIMax                              8481 non-null   float64\n",
      " 19  BMIMedian                           8481 non-null   float64\n",
      " 20  BMIMean                             8481 non-null   float64\n",
      " 21  BPDiastolicMin                      8481 non-null   int64  \n",
      " 22  BPDiastolicMax                      8481 non-null   int64  \n",
      " 23  BPDiastolicMedian                   8481 non-null   float64\n",
      " 24  BPDiastolicMean                     8481 non-null   float64\n",
      " 25  BPSystolicMin                       8481 non-null   int64  \n",
      " 26  BPSystolicMax                       8481 non-null   int64  \n",
      " 27  BPSystolicMedian                    8481 non-null   float64\n",
      " 28  BPSystolicMean                      8481 non-null   float64\n",
      " 29  TemperatureMin                      8481 non-null   float64\n",
      " 30  TemperatureMax                      8481 non-null   float64\n",
      " 31  TemperatureMedian                   8481 non-null   float64\n",
      " 32  TemperatureMean                     8481 non-null   float64\n",
      " 33  HeartRateMin                        8481 non-null   int64  \n",
      " 34  HeartRateMax                        8481 non-null   int64  \n",
      " 35  HeartRateMedian                     8481 non-null   float64\n",
      " 36  HeartRateMean                       8481 non-null   float64\n",
      " 37  PulseRateMin                        8481 non-null   int64  \n",
      " 38  PulseRateMax                        8481 non-null   int64  \n",
      " 39  PulseRateMedian                     8481 non-null   float64\n",
      " 40  PulseRateMean                       8481 non-null   float64\n",
      " 41  RespiratoryRateMin                  8481 non-null   int64  \n",
      " 42  RespiratoryRateMax                  8481 non-null   int64  \n",
      " 43  RespiratoryRateMedian               8481 non-null   float64\n",
      " 44  RespiratoryRateMean                 8481 non-null   float64\n",
      " 45  ACEInhibitors                       8481 non-null   int64  \n",
      " 46  ARBs                                8481 non-null   int64  \n",
      " 47  BetaBlockers                        8481 non-null   int64  \n",
      " 48  Diuretics                           8481 non-null   int64  \n",
      " 49  TotalMedicine                       8481 non-null   int64  \n",
      " 50  CardiacTroponin                     8481 non-null   float64\n",
      " 51  Hemoglobin                          8481 non-null   float64\n",
      " 52  SerumSodium                         8481 non-null   float64\n",
      " 53  SerumCreatinine                     8481 non-null   float64\n",
      " 54  BNP                                 8481 non-null   float64\n",
      " 55  NT-proBNP                           8481 non-null   float64\n",
      " 56  ReadmissionWithin_90Days            8481 non-null   object \n",
      "dtypes: float64(24), int64(23), object(10)\n",
      "memory usage: 3.7+ MB\n"
     ]
    }
   ],
   "source": [
    "df.info()"
   ]
  },
  {
   "cell_type": "code",
   "execution_count": 20,
   "metadata": {},
   "outputs": [
    {
     "data": {
      "text/plain": [
       "Index(['PatientId', 'EncounterId', 'DischargeDisposision', 'Gender', 'Race',\n",
       "       'DiabetesMellitus', 'ChronicKidneyDisease', 'Anemia', 'Depression ',\n",
       "       'ChronicObstructivePulmonaryDisease', 'Age', 'ChronicDiseaseCount',\n",
       "       'LengthOfStay', 'EmergencyVisit', 'InpatientVisit', 'OutpatientVisit',\n",
       "       'TotalVisits', 'BMIMin', 'BMIMax', 'BMIMedian', 'BMIMean',\n",
       "       'BPDiastolicMin', 'BPDiastolicMax', 'BPDiastolicMedian',\n",
       "       'BPDiastolicMean', 'BPSystolicMin', 'BPSystolicMax', 'BPSystolicMedian',\n",
       "       'BPSystolicMean', 'TemperatureMin', 'TemperatureMax',\n",
       "       'TemperatureMedian', 'TemperatureMean', 'HeartRateMin', 'HeartRateMax',\n",
       "       'HeartRateMedian', 'HeartRateMean', 'PulseRateMin', 'PulseRateMax',\n",
       "       'PulseRateMedian', 'PulseRateMean', 'RespiratoryRateMin',\n",
       "       'RespiratoryRateMax', 'RespiratoryRateMedian', 'RespiratoryRateMean',\n",
       "       'ACEInhibitors', 'ARBs', 'BetaBlockers', 'Diuretics', 'TotalMedicine',\n",
       "       'CardiacTroponin', 'Hemoglobin', 'SerumSodium', 'SerumCreatinine',\n",
       "       'BNP', 'NT-proBNP', 'ReadmissionWithin_90Days'],\n",
       "      dtype='object')"
      ]
     },
     "execution_count": 20,
     "metadata": {},
     "output_type": "execute_result"
    }
   ],
   "source": [
    "df.columns"
   ]
  },
  {
   "cell_type": "markdown",
   "metadata": {},
   "source": [
    "## Race\n",
    "Create a new class nemed UnKnown na replace Nan and other race wiht UnKnown "
   ]
  },
  {
   "cell_type": "code",
   "execution_count": 21,
   "metadata": {},
   "outputs": [
    {
     "data": {
      "text/plain": [
       "array(['White', 'Black or African American', 'Other Race', nan, 'Asian',\n",
       "       'UnKnown', 'American Indian or Alaska Native',\n",
       "       'Native Hawaiian or Other Pacific Islander'], dtype=object)"
      ]
     },
     "execution_count": 21,
     "metadata": {},
     "output_type": "execute_result"
    }
   ],
   "source": [
    "df['Race'].unique()"
   ]
  },
  {
   "cell_type": "code",
   "execution_count": 22,
   "metadata": {},
   "outputs": [],
   "source": [
    "df['Race'].fillna(\"UnKnown\", inplace = True)"
   ]
  },
  {
   "cell_type": "code",
   "execution_count": 23,
   "metadata": {},
   "outputs": [],
   "source": [
    "df['Race'].replace('Other Race', 'UnKnown', inplace = True)"
   ]
  },
  {
   "cell_type": "markdown",
   "metadata": {},
   "source": [
    "## DiabetesMellitus\n",
    "As DiabetesMellitus only have two unique values i.e 'DM', nan.\n",
    "Create new class UnKnown and replace Nan with it"
   ]
  },
  {
   "cell_type": "code",
   "execution_count": 24,
   "metadata": {},
   "outputs": [
    {
     "data": {
      "text/plain": [
       "array(['DM', nan], dtype=object)"
      ]
     },
     "execution_count": 24,
     "metadata": {},
     "output_type": "execute_result"
    }
   ],
   "source": [
    "df['DiabetesMellitus'].unique()"
   ]
  },
  {
   "cell_type": "code",
   "execution_count": 25,
   "metadata": {},
   "outputs": [
    {
     "data": {
      "text/plain": [
       "DM    4624\n",
       "Name: DiabetesMellitus, dtype: int64"
      ]
     },
     "execution_count": 25,
     "metadata": {},
     "output_type": "execute_result"
    }
   ],
   "source": [
    "df['DiabetesMellitus'].value_counts()"
   ]
  },
  {
   "cell_type": "code",
   "execution_count": 26,
   "metadata": {},
   "outputs": [],
   "source": [
    "df['DiabetesMellitus'].fillna(\"UnKnown\", inplace = True)"
   ]
  },
  {
   "cell_type": "markdown",
   "metadata": {},
   "source": [
    "## ChronicKidneyDisease\n",
    "As ChronicKidneyDisease only have two unique values Nan and 'CKD'. \n",
    "Replace Nan with UnKnown"
   ]
  },
  {
   "cell_type": "code",
   "execution_count": 27,
   "metadata": {},
   "outputs": [
    {
     "data": {
      "text/plain": [
       "array([nan, 'CKD'], dtype=object)"
      ]
     },
     "execution_count": 27,
     "metadata": {},
     "output_type": "execute_result"
    }
   ],
   "source": [
    "df['ChronicKidneyDisease'].unique()"
   ]
  },
  {
   "cell_type": "code",
   "execution_count": 28,
   "metadata": {},
   "outputs": [
    {
     "data": {
      "text/plain": [
       "CKD    4575\n",
       "Name: ChronicKidneyDisease, dtype: int64"
      ]
     },
     "execution_count": 28,
     "metadata": {},
     "output_type": "execute_result"
    }
   ],
   "source": [
    "df['ChronicKidneyDisease'].value_counts()"
   ]
  },
  {
   "cell_type": "code",
   "execution_count": 29,
   "metadata": {},
   "outputs": [],
   "source": [
    "df['ChronicKidneyDisease'].fillna(\"UnKnown\", inplace = True)"
   ]
  },
  {
   "cell_type": "markdown",
   "metadata": {},
   "source": [
    "## Anemia\n",
    "Anemia also have two unique values Nan and Anemia\n",
    "Replace Nan with UnKnown"
   ]
  },
  {
   "cell_type": "code",
   "execution_count": 30,
   "metadata": {},
   "outputs": [
    {
     "data": {
      "text/plain": [
       "array(['Anemia', nan], dtype=object)"
      ]
     },
     "execution_count": 30,
     "metadata": {},
     "output_type": "execute_result"
    }
   ],
   "source": [
    "df['Anemia'].unique()"
   ]
  },
  {
   "cell_type": "code",
   "execution_count": 31,
   "metadata": {},
   "outputs": [
    {
     "data": {
      "text/plain": [
       "Anemia    5479\n",
       "Name: Anemia, dtype: int64"
      ]
     },
     "execution_count": 31,
     "metadata": {},
     "output_type": "execute_result"
    }
   ],
   "source": [
    "df['Anemia'].value_counts()"
   ]
  },
  {
   "cell_type": "code",
   "execution_count": 32,
   "metadata": {},
   "outputs": [],
   "source": [
    "df['Anemia'].fillna(\"UnKnown\", inplace = True)"
   ]
  },
  {
   "cell_type": "markdown",
   "metadata": {},
   "source": [
    "## Depression\n",
    "Depression also have only two unique values Nan and Depression \n",
    "Replace Nan with Unknown"
   ]
  },
  {
   "cell_type": "code",
   "execution_count": 33,
   "metadata": {},
   "outputs": [
    {
     "data": {
      "text/plain": [
       "array([nan, 'Depression '], dtype=object)"
      ]
     },
     "execution_count": 33,
     "metadata": {},
     "output_type": "execute_result"
    }
   ],
   "source": [
    "df['Depression '].unique()"
   ]
  },
  {
   "cell_type": "code",
   "execution_count": 34,
   "metadata": {},
   "outputs": [
    {
     "data": {
      "text/plain": [
       "Depression     3373\n",
       "Name: Depression , dtype: int64"
      ]
     },
     "execution_count": 34,
     "metadata": {},
     "output_type": "execute_result"
    }
   ],
   "source": [
    "df['Depression '].value_counts()"
   ]
  },
  {
   "cell_type": "code",
   "execution_count": 35,
   "metadata": {},
   "outputs": [],
   "source": [
    "df['Depression '].fillna(\"UnKnown\", inplace = True)"
   ]
  },
  {
   "cell_type": "markdown",
   "metadata": {},
   "source": [
    "## ChronicObstructivePulmonaryDisease\n",
    "ChronicObstructivePulmonaryDisease also have two unique values Nan and ChronicObstructivePulmonaryDisease \n",
    "Replace Nan with Unknown"
   ]
  },
  {
   "cell_type": "code",
   "execution_count": 36,
   "metadata": {},
   "outputs": [
    {
     "data": {
      "text/plain": [
       "array(['COPD', nan], dtype=object)"
      ]
     },
     "execution_count": 36,
     "metadata": {},
     "output_type": "execute_result"
    }
   ],
   "source": [
    "df['ChronicObstructivePulmonaryDisease'].unique()"
   ]
  },
  {
   "cell_type": "code",
   "execution_count": 37,
   "metadata": {},
   "outputs": [
    {
     "data": {
      "text/plain": [
       "COPD    4527\n",
       "Name: ChronicObstructivePulmonaryDisease, dtype: int64"
      ]
     },
     "execution_count": 37,
     "metadata": {},
     "output_type": "execute_result"
    }
   ],
   "source": [
    "df['ChronicObstructivePulmonaryDisease'].value_counts()"
   ]
  },
  {
   "cell_type": "code",
   "execution_count": 38,
   "metadata": {},
   "outputs": [],
   "source": [
    "df['ChronicObstructivePulmonaryDisease'].fillna(\"UnKnown\", inplace = True)"
   ]
  },
  {
   "cell_type": "code",
   "execution_count": 39,
   "metadata": {},
   "outputs": [],
   "source": [
    "# Store ReadmissionWithin_90Days as classes"
   ]
  },
  {
   "cell_type": "code",
   "execution_count": 40,
   "metadata": {},
   "outputs": [],
   "source": [
    "classes = df[['ReadmissionWithin_90Days']]"
   ]
  },
  {
   "cell_type": "code",
   "execution_count": 41,
   "metadata": {},
   "outputs": [],
   "source": [
    "df.drop(\"ReadmissionWithin_90Days\", axis = 1, inplace = True)"
   ]
  },
  {
   "cell_type": "code",
   "execution_count": 42,
   "metadata": {},
   "outputs": [
    {
     "data": {
      "text/html": [
       "<div>\n",
       "<style scoped>\n",
       "    .dataframe tbody tr th:only-of-type {\n",
       "        vertical-align: middle;\n",
       "    }\n",
       "\n",
       "    .dataframe tbody tr th {\n",
       "        vertical-align: top;\n",
       "    }\n",
       "\n",
       "    .dataframe thead th {\n",
       "        text-align: right;\n",
       "    }\n",
       "</style>\n",
       "<table border=\"1\" class=\"dataframe\">\n",
       "  <thead>\n",
       "    <tr style=\"text-align: right;\">\n",
       "      <th></th>\n",
       "      <th>PatientId</th>\n",
       "      <th>EncounterId</th>\n",
       "      <th>DischargeDisposision</th>\n",
       "      <th>Gender</th>\n",
       "      <th>Race</th>\n",
       "      <th>DiabetesMellitus</th>\n",
       "      <th>ChronicKidneyDisease</th>\n",
       "      <th>Anemia</th>\n",
       "      <th>Depression</th>\n",
       "      <th>ChronicObstructivePulmonaryDisease</th>\n",
       "      <th>...</th>\n",
       "      <th>ARBs</th>\n",
       "      <th>BetaBlockers</th>\n",
       "      <th>Diuretics</th>\n",
       "      <th>TotalMedicine</th>\n",
       "      <th>CardiacTroponin</th>\n",
       "      <th>Hemoglobin</th>\n",
       "      <th>SerumSodium</th>\n",
       "      <th>SerumCreatinine</th>\n",
       "      <th>BNP</th>\n",
       "      <th>NT-proBNP</th>\n",
       "    </tr>\n",
       "  </thead>\n",
       "  <tbody>\n",
       "    <tr>\n",
       "      <th>0</th>\n",
       "      <td>4200412</td>\n",
       "      <td>199171333</td>\n",
       "      <td>Home</td>\n",
       "      <td>Male</td>\n",
       "      <td>White</td>\n",
       "      <td>DM</td>\n",
       "      <td>UnKnown</td>\n",
       "      <td>Anemia</td>\n",
       "      <td>UnKnown</td>\n",
       "      <td>COPD</td>\n",
       "      <td>...</td>\n",
       "      <td>0</td>\n",
       "      <td>0</td>\n",
       "      <td>0</td>\n",
       "      <td>0</td>\n",
       "      <td>0.0</td>\n",
       "      <td>0.00</td>\n",
       "      <td>0.0</td>\n",
       "      <td>0.00</td>\n",
       "      <td>0.0</td>\n",
       "      <td>0.0</td>\n",
       "    </tr>\n",
       "    <tr>\n",
       "      <th>1</th>\n",
       "      <td>4055894</td>\n",
       "      <td>26704337</td>\n",
       "      <td>Home</td>\n",
       "      <td>Male</td>\n",
       "      <td>White</td>\n",
       "      <td>DM</td>\n",
       "      <td>CKD</td>\n",
       "      <td>Anemia</td>\n",
       "      <td>Depression</td>\n",
       "      <td>COPD</td>\n",
       "      <td>...</td>\n",
       "      <td>0</td>\n",
       "      <td>1</td>\n",
       "      <td>5</td>\n",
       "      <td>8</td>\n",
       "      <td>0.0</td>\n",
       "      <td>0.00</td>\n",
       "      <td>0.0</td>\n",
       "      <td>1.54</td>\n",
       "      <td>0.0</td>\n",
       "      <td>0.0</td>\n",
       "    </tr>\n",
       "    <tr>\n",
       "      <th>2</th>\n",
       "      <td>4867407</td>\n",
       "      <td>60388216</td>\n",
       "      <td>Home</td>\n",
       "      <td>Male</td>\n",
       "      <td>White</td>\n",
       "      <td>DM</td>\n",
       "      <td>CKD</td>\n",
       "      <td>Anemia</td>\n",
       "      <td>UnKnown</td>\n",
       "      <td>COPD</td>\n",
       "      <td>...</td>\n",
       "      <td>0</td>\n",
       "      <td>1</td>\n",
       "      <td>1</td>\n",
       "      <td>2</td>\n",
       "      <td>0.0</td>\n",
       "      <td>10.20</td>\n",
       "      <td>0.0</td>\n",
       "      <td>0.00</td>\n",
       "      <td>0.0</td>\n",
       "      <td>0.0</td>\n",
       "    </tr>\n",
       "    <tr>\n",
       "      <th>3</th>\n",
       "      <td>4058064</td>\n",
       "      <td>274642265</td>\n",
       "      <td>Hospice - Home</td>\n",
       "      <td>Female</td>\n",
       "      <td>White</td>\n",
       "      <td>DM</td>\n",
       "      <td>UnKnown</td>\n",
       "      <td>Anemia</td>\n",
       "      <td>UnKnown</td>\n",
       "      <td>COPD</td>\n",
       "      <td>...</td>\n",
       "      <td>0</td>\n",
       "      <td>0</td>\n",
       "      <td>0</td>\n",
       "      <td>0</td>\n",
       "      <td>0.0</td>\n",
       "      <td>0.00</td>\n",
       "      <td>132.0</td>\n",
       "      <td>0.00</td>\n",
       "      <td>0.0</td>\n",
       "      <td>0.0</td>\n",
       "    </tr>\n",
       "    <tr>\n",
       "      <th>4</th>\n",
       "      <td>4150623</td>\n",
       "      <td>70000001557327</td>\n",
       "      <td>SNF</td>\n",
       "      <td>Female</td>\n",
       "      <td>White</td>\n",
       "      <td>UnKnown</td>\n",
       "      <td>UnKnown</td>\n",
       "      <td>Anemia</td>\n",
       "      <td>UnKnown</td>\n",
       "      <td>COPD</td>\n",
       "      <td>...</td>\n",
       "      <td>0</td>\n",
       "      <td>0</td>\n",
       "      <td>0</td>\n",
       "      <td>0</td>\n",
       "      <td>0.0</td>\n",
       "      <td>7.26</td>\n",
       "      <td>0.0</td>\n",
       "      <td>0.00</td>\n",
       "      <td>0.0</td>\n",
       "      <td>0.0</td>\n",
       "    </tr>\n",
       "  </tbody>\n",
       "</table>\n",
       "<p>5 rows × 56 columns</p>\n",
       "</div>"
      ],
      "text/plain": [
       "   PatientId     EncounterId DischargeDisposision  Gender   Race  \\\n",
       "0    4200412       199171333                 Home    Male  White   \n",
       "1    4055894        26704337                 Home    Male  White   \n",
       "2    4867407        60388216                 Home    Male  White   \n",
       "3    4058064       274642265       Hospice - Home  Female  White   \n",
       "4    4150623  70000001557327                  SNF  Female  White   \n",
       "\n",
       "  DiabetesMellitus ChronicKidneyDisease  Anemia  Depression   \\\n",
       "0               DM              UnKnown  Anemia      UnKnown   \n",
       "1               DM                  CKD  Anemia  Depression    \n",
       "2               DM                  CKD  Anemia      UnKnown   \n",
       "3               DM              UnKnown  Anemia      UnKnown   \n",
       "4          UnKnown              UnKnown  Anemia      UnKnown   \n",
       "\n",
       "  ChronicObstructivePulmonaryDisease  ...  ARBs  BetaBlockers  Diuretics  \\\n",
       "0                               COPD  ...     0             0          0   \n",
       "1                               COPD  ...     0             1          5   \n",
       "2                               COPD  ...     0             1          1   \n",
       "3                               COPD  ...     0             0          0   \n",
       "4                               COPD  ...     0             0          0   \n",
       "\n",
       "   TotalMedicine  CardiacTroponin  Hemoglobin  SerumSodium  SerumCreatinine  \\\n",
       "0              0              0.0        0.00          0.0             0.00   \n",
       "1              8              0.0        0.00          0.0             1.54   \n",
       "2              2              0.0       10.20          0.0             0.00   \n",
       "3              0              0.0        0.00        132.0             0.00   \n",
       "4              0              0.0        7.26          0.0             0.00   \n",
       "\n",
       "   BNP  NT-proBNP  \n",
       "0  0.0        0.0  \n",
       "1  0.0        0.0  \n",
       "2  0.0        0.0  \n",
       "3  0.0        0.0  \n",
       "4  0.0        0.0  \n",
       "\n",
       "[5 rows x 56 columns]"
      ]
     },
     "execution_count": 42,
     "metadata": {},
     "output_type": "execute_result"
    }
   ],
   "source": [
    "df.head()"
   ]
  },
  {
   "cell_type": "code",
   "execution_count": 43,
   "metadata": {},
   "outputs": [
    {
     "name": "stdout",
     "output_type": "stream",
     "text": [
      "['PatientId', 'EncounterId', 'DischargeDisposision', 'Gender', 'Race', 'DiabetesMellitus', 'ChronicKidneyDisease', 'Anemia', 'Depression ', 'ChronicObstructivePulmonaryDisease', 'Age', 'ChronicDiseaseCount', 'LengthOfStay', 'EmergencyVisit', 'InpatientVisit', 'OutpatientVisit', 'TotalVisits', 'BMIMin', 'BMIMax', 'BMIMedian', 'BMIMean', 'BPDiastolicMin', 'BPDiastolicMax', 'BPDiastolicMedian', 'BPDiastolicMean', 'BPSystolicMin', 'BPSystolicMax', 'BPSystolicMedian', 'BPSystolicMean', 'TemperatureMin', 'TemperatureMax', 'TemperatureMedian', 'TemperatureMean', 'HeartRateMin', 'HeartRateMax', 'HeartRateMedian', 'HeartRateMean', 'PulseRateMin', 'PulseRateMax', 'PulseRateMedian', 'PulseRateMean', 'RespiratoryRateMin', 'RespiratoryRateMax', 'RespiratoryRateMedian', 'RespiratoryRateMean', 'ACEInhibitors', 'ARBs', 'BetaBlockers', 'Diuretics', 'TotalMedicine', 'CardiacTroponin', 'Hemoglobin', 'SerumSodium', 'SerumCreatinine', 'BNP', 'NT-proBNP']\n"
     ]
    },
    {
     "data": {
      "text/plain": [
       "56"
      ]
     },
     "execution_count": 43,
     "metadata": {},
     "output_type": "execute_result"
    }
   ],
   "source": [
    "#Store column of dataframe\n",
    "col_list = df.columns.to_list()\n",
    "print(col_list)\n",
    "len(col_list)"
   ]
  },
  {
   "cell_type": "code",
   "execution_count": null,
   "metadata": {},
   "outputs": [],
   "source": []
  },
  {
   "cell_type": "code",
   "execution_count": 44,
   "metadata": {},
   "outputs": [],
   "source": [
    "# Function to encode column having data type \"Object\"\n",
    "from sklearn.preprocessing import LabelEncoder\n",
    "def encoding(val_rec):\n",
    "    \n",
    "    for i in val_rec.columns:\n",
    "        lb = LabelEncoder() \n",
    "        if(val_rec[i].dtypes == np.object):\n",
    "            val_rec[i] = lb.fit_transform(val_rec[i].astype(str))\n",
    "        \n",
    "    return val_rec\n",
    "        \n"
   ]
  },
  {
   "cell_type": "code",
   "execution_count": 45,
   "metadata": {},
   "outputs": [],
   "source": [
    "# Function to calculate Fitness(accuracy)\n",
    "def calculateFitness(x):\n",
    "    x = pd.DataFrame(df, columns = x)\n",
    "    x = encoding(x)\n",
    "    classes_ = encoding(classes)\n",
    "    \n",
    "    X_train, X_test, y_train, y_test = train_test_split(x, classes_, random_state=1)\n",
    "    \n",
    "    logisticRegr = LogisticRegression()\n",
    "    logisticRegr.fit(X_train, y_train)\n",
    "    predictions = logisticRegr.predict(X_test)\n",
    "#     score = logisticRegr.score(y_test, predictions)\n",
    "    return (accuracy_score(y_test, predictions)*100)"
   ]
  },
  {
   "cell_type": "code",
   "execution_count": 46,
   "metadata": {},
   "outputs": [],
   "source": [
    "# Function to generate Population\n",
    "def generate_population():\n",
    "    papulation = []\n",
    "    fitness = []\n",
    "    size = 30\n",
    "    length_of_column = 56\n",
    "    \n",
    "    while(len(papulation)!=40):\n",
    "        feature_list = []\n",
    "        while(len(feature_list)!=size):\n",
    "            random = np.random.randint(0, length_of_column)\n",
    "            if col_list[random] not in feature_list:\n",
    "                feature_list.append(col_list[random])\n",
    "        if feature_list not in papulation:\n",
    "            papulation.append(feature_list)\n",
    "            fit = calculateFitness(feature_list)\n",
    "            fitness.append(fit)\n",
    "    return papulation,fitness"
   ]
  },
  {
   "cell_type": "code",
   "execution_count": 47,
   "metadata": {},
   "outputs": [],
   "source": [
    "# roulette wheel\n",
    "def selectOne( fit):\n",
    "    max = sum([c for c in fit])\n",
    "    selection_probs = [c/max for c in fit]\n",
    "    return fit.index(fit[np.random.choice(len(fit), p=selection_probs)])"
   ]
  },
  {
   "cell_type": "code",
   "execution_count": 48,
   "metadata": {},
   "outputs": [],
   "source": [
    "# Function to select rendomly two index\n",
    "def selection(fitns):\n",
    "    selection_list = []\n",
    "    while (len(selection_list)!=2):\n",
    "        temp_ = selectOne(fitns)\n",
    "        if temp_ not in selection_list:\n",
    "            selection_list.append(temp_)\n",
    "#             print(\"Selected index \", temp_)\n",
    "    return selection_list"
   ]
  },
  {
   "cell_type": "code",
   "execution_count": 49,
   "metadata": {},
   "outputs": [],
   "source": [
    "# Cross over\n",
    "def cross_over(p_0, p_1,s):\n",
    "    while(True):\n",
    "    #     print(len(np.unique(p_0)) , len(np.unique(p_1)))\n",
    "        line = np.random.randint(0, s)\n",
    "#         print(\"Break at \", line)\n",
    "\n",
    "        c0 = p_0[0:line] + p_1[line:]\n",
    "        c1 = p_1[0:line] + p_0[line:]\n",
    "#         print(len(np.unique(c0)) , len(np.unique(c1)))\n",
    "        if (len(np.unique(c0)) == s and len(np.unique(c1)) == s):\n",
    "            break\n",
    "\n",
    "    return c0,c1\n"
   ]
  },
  {
   "cell_type": "code",
   "execution_count": 50,
   "metadata": {},
   "outputs": [],
   "source": [
    "# Mutation\n",
    "def mutation(c0,c1,s):\n",
    "    total_col = 56\n",
    "    mutation_rate = np.random.randint(0, 100)\n",
    "#     mutation_rate = 39\n",
    "#     print(mutation_rate)\n",
    "    fitness_thresold = 40\n",
    "    if mutation_rate <= fitness_thresold:\n",
    "        rand_index = np.random.randint(0, s)\n",
    "#         print(\"index to change \", rand_index)\n",
    "        while (True):\n",
    "            c0[rand_index] = col_list[np.random.randint(0, total_col)]\n",
    "            c1[rand_index] = col_list[np.random.randint(0, total_col)]\n",
    "            if (len(np.unique(c0)) == s and len(np.unique(c1)) == s):\n",
    "                break\n",
    "#             print(\"No\")\n",
    "    return c0, c1"
   ]
  },
  {
   "cell_type": "code",
   "execution_count": 51,
   "metadata": {},
   "outputs": [],
   "source": [
    "# Stoping condition (if the last num fitness(Accuracy are equal))\n",
    "def stoping_condition(ftns,num):\n",
    "    count = 1\n",
    "    for i in range(2, num+1):\n",
    "        if ftns[-1] == ftns[-i]:\n",
    "            count += 1\n",
    "    return count\n",
    "#     print(\"Last index are same \",count)"
   ]
  },
  {
   "cell_type": "code",
   "execution_count": 52,
   "metadata": {},
   "outputs": [],
   "source": [
    "def Genetic_Algorithms():\n",
    "    # ----------- generate population\n",
    "    size = 30\n",
    "    epoch = 500\n",
    "    length_of_last_index_toCheck = 5\n",
    "    pop , ftnes = generate_population()\n",
    "    max_acc = max(ftnes)\n",
    "    print(\" Max is \",max_acc)\n",
    "    # print(ftnes,\"\\n\\n\")\n",
    "\n",
    "    for i in range(0, epoch):\n",
    "\n",
    "        # ----------- selection\n",
    "        select = selection(ftnes)\n",
    "        s0 = select[0]\n",
    "        s1 = select[1]\n",
    "\n",
    "        # print(s0, s1)\n",
    "\n",
    "        # select parent\n",
    "\n",
    "        p0 = pop[s0]\n",
    "        p1 = pop[s1]\n",
    "    #     print(p0,p1, \"\\n\")\n",
    "\n",
    "        p0_fitness = ftnes[s0]\n",
    "        p1_fitness = ftnes[s1]\n",
    "    #     print(p0_fitness,\"\\n\",p1_fitness)\n",
    "\n",
    "        # ----------- cross over\n",
    "\n",
    "        c_0, c_1 = cross_over(p0,p1, size)\n",
    "\n",
    "    #     print(c_0)\n",
    "    #     print(c_1)\n",
    "    #     print(\"\\n\\n\")\n",
    "        c_0_, c_1_ = mutation(c_0, c_1, size)\n",
    "    #     print(c_0_)\n",
    "    #     print(c_1_)\n",
    "\n",
    "        c0_fitness = calculateFitness(c_0_)\n",
    "        c1_fitness = calculateFitness(c_1_)\n",
    "    #     print(c0_fitness, c1_fitness)\n",
    "\n",
    "\n",
    "        if c0_fitness > p0_fitness and c_0_ not in pop:\n",
    "            pop[s0] = c_0_\n",
    "            ftnes[s0] = c0_fitness\n",
    "    #             print(\"Yes\")\n",
    "    #         pop.append(c_0_)\n",
    "    #         ftnes.append(c0_fitness)    \n",
    "\n",
    "        if c1_fitness > p1_fitness and c_1_ not in pop:\n",
    "            pop[s1] = c_1_\n",
    "            ftnes[s1] = c1_fitness\n",
    "    #             print(\"Yes\")\n",
    "    #         pop.append(c_1_)\n",
    "    #         ftnes.append(c1_fitness)\n",
    "        if max_acc < max(ftnes):\n",
    "            max_acc = max(ftnes)\n",
    "            print(\" Max is \",max(ftnes))\n",
    "        temp = stoping_condition(ftnes,length_of_last_index_toCheck)\n",
    "        if (temp == 5 or max_acc >= 99):\n",
    "            print(\"Existing due to same accuracy or reach max accuracy \")\n",
    "            break \n",
    "    return pop[ftnes.index(max(ftnes))], ftnes,pop"
   ]
  },
  {
   "cell_type": "code",
   "execution_count": 53,
   "metadata": {},
   "outputs": [
    {
     "name": "stdout",
     "output_type": "stream",
     "text": [
      " Max is  73.64450730787364\n",
      " Max is  73.6916548797737\n",
      " Max is  73.92739273927393\n",
      " Max is  73.97454031117398\n",
      " Max is  74.06883545497406\n",
      " Max is  74.1159830268741\n",
      "\n",
      "30 Best selected feature are \n",
      "\n",
      " ['SerumSodium', 'BNP', 'Hemoglobin', 'BMIMean', 'DiabetesMellitus', 'TemperatureMedian', 'Gender', 'BPSystolicMean', 'BPSystolicMax', 'ARBs', 'BMIMin', 'TotalVisits', 'InpatientVisit', 'EmergencyVisit', 'PulseRateMin', 'BMIMax', 'BPDiastolicMedian', 'Anemia', 'TotalMedicine', 'RespiratoryRateMedian', 'LengthOfStay', 'HeartRateMin', 'ChronicDiseaseCount', 'BPSystolicMedian', 'TemperatureMin', 'RespiratoryRateMean', 'TemperatureMax', 'Diuretics', 'OutpatientVisit', 'NT-proBNP']\n"
     ]
    }
   ],
   "source": [
    "temp , f, p= Genetic_Algorithms()\n",
    "print(\"\\n30 Best selected feature are \\n\\n\",temp)"
   ]
  },
  {
   "cell_type": "code",
   "execution_count": null,
   "metadata": {},
   "outputs": [],
   "source": []
  },
  {
   "cell_type": "markdown",
   "metadata": {},
   "source": [
    "## Results without any Feature Selection"
   ]
  },
  {
   "cell_type": "code",
   "execution_count": 54,
   "metadata": {},
   "outputs": [
    {
     "data": {
      "text/html": [
       "<div>\n",
       "<style scoped>\n",
       "    .dataframe tbody tr th:only-of-type {\n",
       "        vertical-align: middle;\n",
       "    }\n",
       "\n",
       "    .dataframe tbody tr th {\n",
       "        vertical-align: top;\n",
       "    }\n",
       "\n",
       "    .dataframe thead th {\n",
       "        text-align: right;\n",
       "    }\n",
       "</style>\n",
       "<table border=\"1\" class=\"dataframe\">\n",
       "  <thead>\n",
       "    <tr style=\"text-align: right;\">\n",
       "      <th></th>\n",
       "      <th>PatientId</th>\n",
       "      <th>EncounterId</th>\n",
       "      <th>DischargeDisposision</th>\n",
       "      <th>Gender</th>\n",
       "      <th>Race</th>\n",
       "      <th>DiabetesMellitus</th>\n",
       "      <th>ChronicKidneyDisease</th>\n",
       "      <th>Anemia</th>\n",
       "      <th>Depression</th>\n",
       "      <th>ChronicObstructivePulmonaryDisease</th>\n",
       "      <th>...</th>\n",
       "      <th>ARBs</th>\n",
       "      <th>BetaBlockers</th>\n",
       "      <th>Diuretics</th>\n",
       "      <th>TotalMedicine</th>\n",
       "      <th>CardiacTroponin</th>\n",
       "      <th>Hemoglobin</th>\n",
       "      <th>SerumSodium</th>\n",
       "      <th>SerumCreatinine</th>\n",
       "      <th>BNP</th>\n",
       "      <th>NT-proBNP</th>\n",
       "    </tr>\n",
       "  </thead>\n",
       "  <tbody>\n",
       "    <tr>\n",
       "      <th>0</th>\n",
       "      <td>4200412</td>\n",
       "      <td>199171333</td>\n",
       "      <td>Home</td>\n",
       "      <td>Male</td>\n",
       "      <td>White</td>\n",
       "      <td>DM</td>\n",
       "      <td>UnKnown</td>\n",
       "      <td>Anemia</td>\n",
       "      <td>UnKnown</td>\n",
       "      <td>COPD</td>\n",
       "      <td>...</td>\n",
       "      <td>0</td>\n",
       "      <td>0</td>\n",
       "      <td>0</td>\n",
       "      <td>0</td>\n",
       "      <td>0.0</td>\n",
       "      <td>0.00</td>\n",
       "      <td>0.0</td>\n",
       "      <td>0.00</td>\n",
       "      <td>0.0</td>\n",
       "      <td>0.0</td>\n",
       "    </tr>\n",
       "    <tr>\n",
       "      <th>1</th>\n",
       "      <td>4055894</td>\n",
       "      <td>26704337</td>\n",
       "      <td>Home</td>\n",
       "      <td>Male</td>\n",
       "      <td>White</td>\n",
       "      <td>DM</td>\n",
       "      <td>CKD</td>\n",
       "      <td>Anemia</td>\n",
       "      <td>Depression</td>\n",
       "      <td>COPD</td>\n",
       "      <td>...</td>\n",
       "      <td>0</td>\n",
       "      <td>1</td>\n",
       "      <td>5</td>\n",
       "      <td>8</td>\n",
       "      <td>0.0</td>\n",
       "      <td>0.00</td>\n",
       "      <td>0.0</td>\n",
       "      <td>1.54</td>\n",
       "      <td>0.0</td>\n",
       "      <td>0.0</td>\n",
       "    </tr>\n",
       "    <tr>\n",
       "      <th>2</th>\n",
       "      <td>4867407</td>\n",
       "      <td>60388216</td>\n",
       "      <td>Home</td>\n",
       "      <td>Male</td>\n",
       "      <td>White</td>\n",
       "      <td>DM</td>\n",
       "      <td>CKD</td>\n",
       "      <td>Anemia</td>\n",
       "      <td>UnKnown</td>\n",
       "      <td>COPD</td>\n",
       "      <td>...</td>\n",
       "      <td>0</td>\n",
       "      <td>1</td>\n",
       "      <td>1</td>\n",
       "      <td>2</td>\n",
       "      <td>0.0</td>\n",
       "      <td>10.20</td>\n",
       "      <td>0.0</td>\n",
       "      <td>0.00</td>\n",
       "      <td>0.0</td>\n",
       "      <td>0.0</td>\n",
       "    </tr>\n",
       "    <tr>\n",
       "      <th>3</th>\n",
       "      <td>4058064</td>\n",
       "      <td>274642265</td>\n",
       "      <td>Hospice - Home</td>\n",
       "      <td>Female</td>\n",
       "      <td>White</td>\n",
       "      <td>DM</td>\n",
       "      <td>UnKnown</td>\n",
       "      <td>Anemia</td>\n",
       "      <td>UnKnown</td>\n",
       "      <td>COPD</td>\n",
       "      <td>...</td>\n",
       "      <td>0</td>\n",
       "      <td>0</td>\n",
       "      <td>0</td>\n",
       "      <td>0</td>\n",
       "      <td>0.0</td>\n",
       "      <td>0.00</td>\n",
       "      <td>132.0</td>\n",
       "      <td>0.00</td>\n",
       "      <td>0.0</td>\n",
       "      <td>0.0</td>\n",
       "    </tr>\n",
       "    <tr>\n",
       "      <th>4</th>\n",
       "      <td>4150623</td>\n",
       "      <td>70000001557327</td>\n",
       "      <td>SNF</td>\n",
       "      <td>Female</td>\n",
       "      <td>White</td>\n",
       "      <td>UnKnown</td>\n",
       "      <td>UnKnown</td>\n",
       "      <td>Anemia</td>\n",
       "      <td>UnKnown</td>\n",
       "      <td>COPD</td>\n",
       "      <td>...</td>\n",
       "      <td>0</td>\n",
       "      <td>0</td>\n",
       "      <td>0</td>\n",
       "      <td>0</td>\n",
       "      <td>0.0</td>\n",
       "      <td>7.26</td>\n",
       "      <td>0.0</td>\n",
       "      <td>0.00</td>\n",
       "      <td>0.0</td>\n",
       "      <td>0.0</td>\n",
       "    </tr>\n",
       "  </tbody>\n",
       "</table>\n",
       "<p>5 rows × 56 columns</p>\n",
       "</div>"
      ],
      "text/plain": [
       "   PatientId     EncounterId DischargeDisposision  Gender   Race  \\\n",
       "0    4200412       199171333                 Home    Male  White   \n",
       "1    4055894        26704337                 Home    Male  White   \n",
       "2    4867407        60388216                 Home    Male  White   \n",
       "3    4058064       274642265       Hospice - Home  Female  White   \n",
       "4    4150623  70000001557327                  SNF  Female  White   \n",
       "\n",
       "  DiabetesMellitus ChronicKidneyDisease  Anemia  Depression   \\\n",
       "0               DM              UnKnown  Anemia      UnKnown   \n",
       "1               DM                  CKD  Anemia  Depression    \n",
       "2               DM                  CKD  Anemia      UnKnown   \n",
       "3               DM              UnKnown  Anemia      UnKnown   \n",
       "4          UnKnown              UnKnown  Anemia      UnKnown   \n",
       "\n",
       "  ChronicObstructivePulmonaryDisease  ...  ARBs  BetaBlockers  Diuretics  \\\n",
       "0                               COPD  ...     0             0          0   \n",
       "1                               COPD  ...     0             1          5   \n",
       "2                               COPD  ...     0             1          1   \n",
       "3                               COPD  ...     0             0          0   \n",
       "4                               COPD  ...     0             0          0   \n",
       "\n",
       "   TotalMedicine  CardiacTroponin  Hemoglobin  SerumSodium  SerumCreatinine  \\\n",
       "0              0              0.0        0.00          0.0             0.00   \n",
       "1              8              0.0        0.00          0.0             1.54   \n",
       "2              2              0.0       10.20          0.0             0.00   \n",
       "3              0              0.0        0.00        132.0             0.00   \n",
       "4              0              0.0        7.26          0.0             0.00   \n",
       "\n",
       "   BNP  NT-proBNP  \n",
       "0  0.0        0.0  \n",
       "1  0.0        0.0  \n",
       "2  0.0        0.0  \n",
       "3  0.0        0.0  \n",
       "4  0.0        0.0  \n",
       "\n",
       "[5 rows x 56 columns]"
      ]
     },
     "execution_count": 54,
     "metadata": {},
     "output_type": "execute_result"
    }
   ],
   "source": [
    "df.head()"
   ]
  },
  {
   "cell_type": "code",
   "execution_count": 55,
   "metadata": {},
   "outputs": [
    {
     "data": {
      "text/html": [
       "<div>\n",
       "<style scoped>\n",
       "    .dataframe tbody tr th:only-of-type {\n",
       "        vertical-align: middle;\n",
       "    }\n",
       "\n",
       "    .dataframe tbody tr th {\n",
       "        vertical-align: top;\n",
       "    }\n",
       "\n",
       "    .dataframe thead th {\n",
       "        text-align: right;\n",
       "    }\n",
       "</style>\n",
       "<table border=\"1\" class=\"dataframe\">\n",
       "  <thead>\n",
       "    <tr style=\"text-align: right;\">\n",
       "      <th></th>\n",
       "      <th>PatientId</th>\n",
       "      <th>EncounterId</th>\n",
       "      <th>DischargeDisposision</th>\n",
       "      <th>Gender</th>\n",
       "      <th>Race</th>\n",
       "      <th>DiabetesMellitus</th>\n",
       "      <th>ChronicKidneyDisease</th>\n",
       "      <th>Anemia</th>\n",
       "      <th>Depression</th>\n",
       "      <th>ChronicObstructivePulmonaryDisease</th>\n",
       "      <th>...</th>\n",
       "      <th>ARBs</th>\n",
       "      <th>BetaBlockers</th>\n",
       "      <th>Diuretics</th>\n",
       "      <th>TotalMedicine</th>\n",
       "      <th>CardiacTroponin</th>\n",
       "      <th>Hemoglobin</th>\n",
       "      <th>SerumSodium</th>\n",
       "      <th>SerumCreatinine</th>\n",
       "      <th>BNP</th>\n",
       "      <th>NT-proBNP</th>\n",
       "    </tr>\n",
       "  </thead>\n",
       "  <tbody>\n",
       "    <tr>\n",
       "      <th>0</th>\n",
       "      <td>4200412</td>\n",
       "      <td>199171333</td>\n",
       "      <td>Home</td>\n",
       "      <td>Male</td>\n",
       "      <td>White</td>\n",
       "      <td>DM</td>\n",
       "      <td>UnKnown</td>\n",
       "      <td>Anemia</td>\n",
       "      <td>UnKnown</td>\n",
       "      <td>COPD</td>\n",
       "      <td>...</td>\n",
       "      <td>0</td>\n",
       "      <td>0</td>\n",
       "      <td>0</td>\n",
       "      <td>0</td>\n",
       "      <td>0.0</td>\n",
       "      <td>0.00</td>\n",
       "      <td>0.0</td>\n",
       "      <td>0.000000</td>\n",
       "      <td>0.0</td>\n",
       "      <td>0.0</td>\n",
       "    </tr>\n",
       "    <tr>\n",
       "      <th>1</th>\n",
       "      <td>4055894</td>\n",
       "      <td>26704337</td>\n",
       "      <td>Home</td>\n",
       "      <td>Male</td>\n",
       "      <td>White</td>\n",
       "      <td>DM</td>\n",
       "      <td>CKD</td>\n",
       "      <td>Anemia</td>\n",
       "      <td>Depression</td>\n",
       "      <td>COPD</td>\n",
       "      <td>...</td>\n",
       "      <td>0</td>\n",
       "      <td>1</td>\n",
       "      <td>5</td>\n",
       "      <td>8</td>\n",
       "      <td>0.0</td>\n",
       "      <td>0.00</td>\n",
       "      <td>0.0</td>\n",
       "      <td>1.540000</td>\n",
       "      <td>0.0</td>\n",
       "      <td>0.0</td>\n",
       "    </tr>\n",
       "    <tr>\n",
       "      <th>2</th>\n",
       "      <td>4867407</td>\n",
       "      <td>60388216</td>\n",
       "      <td>Home</td>\n",
       "      <td>Male</td>\n",
       "      <td>White</td>\n",
       "      <td>DM</td>\n",
       "      <td>CKD</td>\n",
       "      <td>Anemia</td>\n",
       "      <td>UnKnown</td>\n",
       "      <td>COPD</td>\n",
       "      <td>...</td>\n",
       "      <td>0</td>\n",
       "      <td>1</td>\n",
       "      <td>1</td>\n",
       "      <td>2</td>\n",
       "      <td>0.0</td>\n",
       "      <td>10.20</td>\n",
       "      <td>0.0</td>\n",
       "      <td>0.000000</td>\n",
       "      <td>0.0</td>\n",
       "      <td>0.0</td>\n",
       "    </tr>\n",
       "    <tr>\n",
       "      <th>3</th>\n",
       "      <td>4058064</td>\n",
       "      <td>274642265</td>\n",
       "      <td>Hospice - Home</td>\n",
       "      <td>Female</td>\n",
       "      <td>White</td>\n",
       "      <td>DM</td>\n",
       "      <td>UnKnown</td>\n",
       "      <td>Anemia</td>\n",
       "      <td>UnKnown</td>\n",
       "      <td>COPD</td>\n",
       "      <td>...</td>\n",
       "      <td>0</td>\n",
       "      <td>0</td>\n",
       "      <td>0</td>\n",
       "      <td>0</td>\n",
       "      <td>0.0</td>\n",
       "      <td>0.00</td>\n",
       "      <td>132.0</td>\n",
       "      <td>0.000000</td>\n",
       "      <td>0.0</td>\n",
       "      <td>0.0</td>\n",
       "    </tr>\n",
       "    <tr>\n",
       "      <th>4</th>\n",
       "      <td>4150623</td>\n",
       "      <td>70000001557327</td>\n",
       "      <td>SNF</td>\n",
       "      <td>Female</td>\n",
       "      <td>White</td>\n",
       "      <td>UnKnown</td>\n",
       "      <td>UnKnown</td>\n",
       "      <td>Anemia</td>\n",
       "      <td>UnKnown</td>\n",
       "      <td>COPD</td>\n",
       "      <td>...</td>\n",
       "      <td>0</td>\n",
       "      <td>0</td>\n",
       "      <td>0</td>\n",
       "      <td>0</td>\n",
       "      <td>0.0</td>\n",
       "      <td>7.26</td>\n",
       "      <td>0.0</td>\n",
       "      <td>0.000000</td>\n",
       "      <td>0.0</td>\n",
       "      <td>0.0</td>\n",
       "    </tr>\n",
       "    <tr>\n",
       "      <th>...</th>\n",
       "      <td>...</td>\n",
       "      <td>...</td>\n",
       "      <td>...</td>\n",
       "      <td>...</td>\n",
       "      <td>...</td>\n",
       "      <td>...</td>\n",
       "      <td>...</td>\n",
       "      <td>...</td>\n",
       "      <td>...</td>\n",
       "      <td>...</td>\n",
       "      <td>...</td>\n",
       "      <td>...</td>\n",
       "      <td>...</td>\n",
       "      <td>...</td>\n",
       "      <td>...</td>\n",
       "      <td>...</td>\n",
       "      <td>...</td>\n",
       "      <td>...</td>\n",
       "      <td>...</td>\n",
       "      <td>...</td>\n",
       "      <td>...</td>\n",
       "    </tr>\n",
       "    <tr>\n",
       "      <th>8476</th>\n",
       "      <td>4152524</td>\n",
       "      <td>40004415567</td>\n",
       "      <td>Home Health</td>\n",
       "      <td>Female</td>\n",
       "      <td>White</td>\n",
       "      <td>DM</td>\n",
       "      <td>CKD</td>\n",
       "      <td>Anemia</td>\n",
       "      <td>UnKnown</td>\n",
       "      <td>COPD</td>\n",
       "      <td>...</td>\n",
       "      <td>1</td>\n",
       "      <td>2</td>\n",
       "      <td>3</td>\n",
       "      <td>6</td>\n",
       "      <td>0.0</td>\n",
       "      <td>0.00</td>\n",
       "      <td>0.0</td>\n",
       "      <td>1.076667</td>\n",
       "      <td>0.0</td>\n",
       "      <td>0.0</td>\n",
       "    </tr>\n",
       "    <tr>\n",
       "      <th>8477</th>\n",
       "      <td>4042227</td>\n",
       "      <td>14347947026</td>\n",
       "      <td>SNF</td>\n",
       "      <td>Male</td>\n",
       "      <td>White</td>\n",
       "      <td>DM</td>\n",
       "      <td>CKD</td>\n",
       "      <td>UnKnown</td>\n",
       "      <td>Depression</td>\n",
       "      <td>COPD</td>\n",
       "      <td>...</td>\n",
       "      <td>0</td>\n",
       "      <td>0</td>\n",
       "      <td>0</td>\n",
       "      <td>0</td>\n",
       "      <td>0.0</td>\n",
       "      <td>0.00</td>\n",
       "      <td>0.0</td>\n",
       "      <td>0.000000</td>\n",
       "      <td>0.0</td>\n",
       "      <td>0.0</td>\n",
       "    </tr>\n",
       "    <tr>\n",
       "      <th>8478</th>\n",
       "      <td>4603405</td>\n",
       "      <td>67117733</td>\n",
       "      <td>Hospice</td>\n",
       "      <td>Female</td>\n",
       "      <td>White</td>\n",
       "      <td>UnKnown</td>\n",
       "      <td>UnKnown</td>\n",
       "      <td>UnKnown</td>\n",
       "      <td>UnKnown</td>\n",
       "      <td>UnKnown</td>\n",
       "      <td>...</td>\n",
       "      <td>0</td>\n",
       "      <td>1</td>\n",
       "      <td>0</td>\n",
       "      <td>1</td>\n",
       "      <td>0.0</td>\n",
       "      <td>0.00</td>\n",
       "      <td>0.0</td>\n",
       "      <td>0.000000</td>\n",
       "      <td>0.0</td>\n",
       "      <td>0.0</td>\n",
       "    </tr>\n",
       "    <tr>\n",
       "      <th>8479</th>\n",
       "      <td>4033677</td>\n",
       "      <td>68564389</td>\n",
       "      <td>Home</td>\n",
       "      <td>Female</td>\n",
       "      <td>White</td>\n",
       "      <td>DM</td>\n",
       "      <td>CKD</td>\n",
       "      <td>UnKnown</td>\n",
       "      <td>Depression</td>\n",
       "      <td>UnKnown</td>\n",
       "      <td>...</td>\n",
       "      <td>0</td>\n",
       "      <td>1</td>\n",
       "      <td>1</td>\n",
       "      <td>5</td>\n",
       "      <td>0.0</td>\n",
       "      <td>0.00</td>\n",
       "      <td>0.0</td>\n",
       "      <td>1.690000</td>\n",
       "      <td>0.0</td>\n",
       "      <td>0.0</td>\n",
       "    </tr>\n",
       "    <tr>\n",
       "      <th>8480</th>\n",
       "      <td>4036902</td>\n",
       "      <td>1452511275</td>\n",
       "      <td>Home</td>\n",
       "      <td>Male</td>\n",
       "      <td>White</td>\n",
       "      <td>UnKnown</td>\n",
       "      <td>CKD</td>\n",
       "      <td>Anemia</td>\n",
       "      <td>UnKnown</td>\n",
       "      <td>UnKnown</td>\n",
       "      <td>...</td>\n",
       "      <td>0</td>\n",
       "      <td>0</td>\n",
       "      <td>0</td>\n",
       "      <td>0</td>\n",
       "      <td>0.0</td>\n",
       "      <td>0.00</td>\n",
       "      <td>0.0</td>\n",
       "      <td>0.000000</td>\n",
       "      <td>0.0</td>\n",
       "      <td>0.0</td>\n",
       "    </tr>\n",
       "  </tbody>\n",
       "</table>\n",
       "<p>8481 rows × 56 columns</p>\n",
       "</div>"
      ],
      "text/plain": [
       "      PatientId     EncounterId DischargeDisposision  Gender   Race  \\\n",
       "0       4200412       199171333                 Home    Male  White   \n",
       "1       4055894        26704337                 Home    Male  White   \n",
       "2       4867407        60388216                 Home    Male  White   \n",
       "3       4058064       274642265       Hospice - Home  Female  White   \n",
       "4       4150623  70000001557327                  SNF  Female  White   \n",
       "...         ...             ...                  ...     ...    ...   \n",
       "8476    4152524     40004415567          Home Health  Female  White   \n",
       "8477    4042227     14347947026                  SNF    Male  White   \n",
       "8478    4603405        67117733              Hospice  Female  White   \n",
       "8479    4033677        68564389                 Home  Female  White   \n",
       "8480    4036902      1452511275                 Home    Male  White   \n",
       "\n",
       "     DiabetesMellitus ChronicKidneyDisease   Anemia  Depression   \\\n",
       "0                  DM              UnKnown   Anemia      UnKnown   \n",
       "1                  DM                  CKD   Anemia  Depression    \n",
       "2                  DM                  CKD   Anemia      UnKnown   \n",
       "3                  DM              UnKnown   Anemia      UnKnown   \n",
       "4             UnKnown              UnKnown   Anemia      UnKnown   \n",
       "...               ...                  ...      ...          ...   \n",
       "8476               DM                  CKD   Anemia      UnKnown   \n",
       "8477               DM                  CKD  UnKnown  Depression    \n",
       "8478          UnKnown              UnKnown  UnKnown      UnKnown   \n",
       "8479               DM                  CKD  UnKnown  Depression    \n",
       "8480          UnKnown                  CKD   Anemia      UnKnown   \n",
       "\n",
       "     ChronicObstructivePulmonaryDisease  ...  ARBs  BetaBlockers  Diuretics  \\\n",
       "0                                  COPD  ...     0             0          0   \n",
       "1                                  COPD  ...     0             1          5   \n",
       "2                                  COPD  ...     0             1          1   \n",
       "3                                  COPD  ...     0             0          0   \n",
       "4                                  COPD  ...     0             0          0   \n",
       "...                                 ...  ...   ...           ...        ...   \n",
       "8476                               COPD  ...     1             2          3   \n",
       "8477                               COPD  ...     0             0          0   \n",
       "8478                            UnKnown  ...     0             1          0   \n",
       "8479                            UnKnown  ...     0             1          1   \n",
       "8480                            UnKnown  ...     0             0          0   \n",
       "\n",
       "      TotalMedicine  CardiacTroponin  Hemoglobin  SerumSodium  \\\n",
       "0                 0              0.0        0.00          0.0   \n",
       "1                 8              0.0        0.00          0.0   \n",
       "2                 2              0.0       10.20          0.0   \n",
       "3                 0              0.0        0.00        132.0   \n",
       "4                 0              0.0        7.26          0.0   \n",
       "...             ...              ...         ...          ...   \n",
       "8476              6              0.0        0.00          0.0   \n",
       "8477              0              0.0        0.00          0.0   \n",
       "8478              1              0.0        0.00          0.0   \n",
       "8479              5              0.0        0.00          0.0   \n",
       "8480              0              0.0        0.00          0.0   \n",
       "\n",
       "      SerumCreatinine  BNP  NT-proBNP  \n",
       "0            0.000000  0.0        0.0  \n",
       "1            1.540000  0.0        0.0  \n",
       "2            0.000000  0.0        0.0  \n",
       "3            0.000000  0.0        0.0  \n",
       "4            0.000000  0.0        0.0  \n",
       "...               ...  ...        ...  \n",
       "8476         1.076667  0.0        0.0  \n",
       "8477         0.000000  0.0        0.0  \n",
       "8478         0.000000  0.0        0.0  \n",
       "8479         1.690000  0.0        0.0  \n",
       "8480         0.000000  0.0        0.0  \n",
       "\n",
       "[8481 rows x 56 columns]"
      ]
     },
     "execution_count": 55,
     "metadata": {},
     "output_type": "execute_result"
    }
   ],
   "source": [
    "x = df\n",
    "x"
   ]
  },
  {
   "cell_type": "code",
   "execution_count": 56,
   "metadata": {},
   "outputs": [],
   "source": [
    "from sklearn.preprocessing import LabelEncoder\n",
    "\n",
    "listt = x.columns\n",
    "for i in range(0, len(listt)):\n",
    "    lb = LabelEncoder() \n",
    "    if x.dtypes[listt[i]] == np.object:\n",
    "#         print(\"yes\")\n",
    "        x[listt[i]] = lb.fit_transform(x[listt[i]].astype(str))\n"
   ]
  },
  {
   "cell_type": "code",
   "execution_count": 57,
   "metadata": {},
   "outputs": [],
   "source": [
    "X_train, X_test, y_train, y_test = train_test_split(x, classes, random_state=1)"
   ]
  },
  {
   "cell_type": "code",
   "execution_count": 58,
   "metadata": {},
   "outputs": [
    {
     "name": "stdout",
     "output_type": "stream",
     "text": [
      "0.7123998114097124\n"
     ]
    }
   ],
   "source": [
    "from sklearn.linear_model import LogisticRegression\n",
    "logisticRegr = LogisticRegression()\n",
    "logisticRegr.fit(X_train, y_train)\n",
    "predictions = logisticRegr.predict(X_test)\n",
    "score = accuracy_score(y_test, predictions)\n",
    "print(score)"
   ]
  },
  {
   "cell_type": "markdown",
   "metadata": {},
   "source": [
    "## Conclusion\n",
    "As you can see that results with feature selection are better than results obtained wihtout any feature selection"
   ]
  },
  {
   "cell_type": "code",
   "execution_count": null,
   "metadata": {},
   "outputs": [],
   "source": []
  }
 ],
 "metadata": {
  "kernelspec": {
   "display_name": "Python 3",
   "language": "python",
   "name": "python3"
  },
  "language_info": {
   "codemirror_mode": {
    "name": "ipython",
    "version": 3
   },
   "file_extension": ".py",
   "mimetype": "text/x-python",
   "name": "python",
   "nbconvert_exporter": "python",
   "pygments_lexer": "ipython3",
   "version": "3.8.3"
  }
 },
 "nbformat": 4,
 "nbformat_minor": 4
}
